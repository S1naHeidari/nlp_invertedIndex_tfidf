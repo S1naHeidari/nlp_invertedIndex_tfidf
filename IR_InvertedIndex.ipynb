{
 "cells": [
  {
   "cell_type": "markdown",
   "metadata": {},
   "source": [
    "# Importing Libraries\n",
    "## PorterStemmer\n",
    "Stemming algorithm."
   ]
  },
  {
   "cell_type": "code",
   "execution_count": 34,
   "metadata": {},
   "outputs": [],
   "source": [
    "import os\n",
    "import re\n",
    "import json\n",
    "from nltk.stem.porter import PorterStemmer\n",
    "import matplotlib.pyplot as plt"
   ]
  },
  {
   "cell_type": "markdown",
   "metadata": {},
   "source": [
    "# Assigning path of dataset"
   ]
  },
  {
   "cell_type": "code",
   "execution_count": 35,
   "metadata": {},
   "outputs": [],
   "source": [
    "myPath = \"/home/raycatcher/Desktop/IR_InvertedIndex/Cars\""
   ]
  },
  {
   "cell_type": "markdown",
   "metadata": {},
   "source": [
    "# Parser \n",
    "Returns dictionaries; documents and year_count.\n",
    "#### documents: \n",
    "{documentId:{\"text\":text.concatenate(favorite),\"file_name\":chosenFile_to_parse}}\n",
    "#### year_count:\n",
    "{doc_year:Number_of_documents}"
   ]
  },
  {
   "cell_type": "code",
   "execution_count": 81,
   "metadata": {},
   "outputs": [],
   "source": [
    "def xml_parser(myPath = \"/home/raycatcher/Desktop/IR_InvertedIndex/Cars\"):\n",
    "    documents = {}\n",
    "    documentId=1\n",
    "    file_count = 0\n",
    "    year_count = {2007:0,2008:0,2009:0}\n",
    "    p = re.compile('<text>.*</text>',re.IGNORECASE)\n",
    "    p2 = re.compile('<favorite>.*</favorite>',re.IGNORECASE)\n",
    "    for (dirpath, dirnames, filenames) in os.walk(myPath):\n",
    "        file_count+=len(filenames)\n",
    "        for chosen_file in filenames:\n",
    "            my_file = open(dirpath+'/'+chosen_file,'r',encoding='windows-1252')\n",
    "            my_file = my_file.read()\n",
    "            all_documents1 = p.findall(my_file.lower())\n",
    "            all_documents2 = p2.findall(my_file.lower())\n",
    "            for i in range(len(all_documents1)-1):\n",
    "                all_documents1[i] = all_documents1[i].replace('<text>','')\n",
    "                all_documents1[i] = all_documents1[i].replace('</text>','')\n",
    "                all_documents2[i] = all_documents2[i].replace('<favorite>','')\n",
    "                all_documents2[i] = all_documents2[i].replace('</favorite>','')\n",
    "            if chosen_file.split('_')[0] == '2007':\n",
    "                year_count[2007]+=len(all_documents1)\n",
    "            if chosen_file.split('_')[0] == '2008':\n",
    "                year_count[2008]+=len(all_documents1)\n",
    "            if chosen_file.split('_')[0] == '2009':\n",
    "                year_count[2009]+=len(all_documents1)\n",
    "            why = chosen_file\n",
    "\n",
    "            for i in range(len(all_documents1)-1):\n",
    "                whole = all_documents1[i]+all_documents2[i]\n",
    "                documents[documentId] = {\"text\":whole,\"file_name\":chosen_file}\n",
    "                documentId+=1\n",
    "    return documents, year_count"
   ]
  },
  {
   "cell_type": "markdown",
   "metadata": {},
   "source": [
    "# Preprocessing\n",
    "prints out number of tokens before and after performing the steps Mentioned below.\n",
    "returns dictionary; finished_dic.\n",
    "finished_dic:\n",
    "{documentId:{\"text\":preprocessed(text.concatenate(favorite))},\"file_name\":chosenFile_to_parse}}\n",
    "## Tokenizing\n",
    "## Removing stopwords\n",
    "## Stemming"
   ]
  },
  {
   "cell_type": "code",
   "execution_count": 37,
   "metadata": {},
   "outputs": [],
   "source": [
    "def preprocessing(documents):\n",
    "    tokenizing = [re.findall('\\w+',documents[documentId][\"text\"]) for documentId in documents]\n",
    "\n",
    "    token_length = 0\n",
    "    for doc in tokenizing:\n",
    "        token_length+=len(doc)\n",
    "    print(f'Number of tokens before preprocessing: {token_length}')\n",
    "\n",
    "    stop_words = open(\"/home/raycatcher/Desktop/IR_InvertedIndex/stopwords.txt\",'r',encoding='windows-1252')\n",
    "    stop_words = stop_words.read()\n",
    "    stop_words = stop_words.split()\n",
    "    stopWords_removed = []\n",
    "    stems = []\n",
    "    finished_dic = {} \n",
    "    for doc in tokenizing:\n",
    "        doc = [d for d in doc if d not in stop_words]\n",
    "        stopWords_removed.append(doc)\n",
    "    \n",
    "    stopWord_length = 0\n",
    "    for doc in stopWords_removed:\n",
    "        stopWord_length += len(doc)\n",
    "    print(f'Number of tokens after removing stop words: {stopWord_length}')\n",
    "\n",
    "    porter = PorterStemmer()\n",
    "    for doc in stopWords_removed:\n",
    "        doc = [porter.stem(s) for s in doc]\n",
    "        stems.append(doc)\n",
    "    \n",
    "    stem_length = 0\n",
    "    for doc in stems:\n",
    "        stem_length+=len(doc)\n",
    "    print(f'Number of tokens after stemming: {stem_length}')\n",
    "\n",
    "    for documentId in documents:\n",
    "        finished_dic[documentId] = {\"text\":' '.join(stems[documentId-1]),\"file_name\":documents[documentId][\"file_name\"]}\n",
    "\n",
    "    return finished_dic"
   ]
  },
  {
   "cell_type": "markdown",
   "metadata": {},
   "source": [
    "# Create inverted index\n",
    "returns dictionary inverted_index.\n",
    "#### Inverted_index:\n",
    "word : {'doc_id' : documentId_list, 'token_id' : token_id, 'tf' : term_frequency}"
   ]
  },
  {
   "cell_type": "code",
   "execution_count": 72,
   "metadata": {},
   "outputs": [],
   "source": [
    "def create_index(documents):\n",
    "    inverted_index={}\n",
    "    token_id = 1\n",
    "    for documentId, text in documents.items():\n",
    "        for word in text['text'].lower().split():\n",
    "            if inverted_index.get(word,False):\n",
    "                inverted_index[word]['tf']+=1\n",
    "                if documentId not in inverted_index[word]['doc_id']:\n",
    "                    inverted_index[word]['doc_id'].append(documentId)\n",
    "            else:\n",
    "                inverted_index[word]={'doc_id':[documentId], 'token_id':token_id, 'tf':1}\n",
    "                token_id+=1\n",
    "                \n",
    "    return inverted_index"
   ]
  },
  {
   "cell_type": "markdown",
   "metadata": {},
   "source": [
    "# Parsing dataset"
   ]
  },
  {
   "cell_type": "code",
   "execution_count": 82,
   "metadata": {},
   "outputs": [],
   "source": [
    "documents, years_count = xml_parser(myPath)"
   ]
  },
  {
   "cell_type": "markdown",
   "metadata": {},
   "source": [
    "# Information about tokens"
   ]
  },
  {
   "cell_type": "code",
   "execution_count": 83,
   "metadata": {},
   "outputs": [
    {
     "name": "stdout",
     "output_type": "stream",
     "text": [
      "Number of tokens before preprocessing: 4544161\n",
      "Number of tokens after removing stop words: 2099590\n",
      "Number of tokens after stemming: 2099590\n"
     ]
    }
   ],
   "source": [
    "preprocessed = preprocessing(documents)"
   ]
  },
  {
   "cell_type": "markdown",
   "metadata": {},
   "source": [
    "# Printing number of documents"
   ]
  },
  {
   "cell_type": "code",
   "execution_count": 84,
   "metadata": {},
   "outputs": [
    {
     "name": "stdout",
     "output_type": "stream",
     "text": [
      "Number of preprocessed documents: 41131\n"
     ]
    }
   ],
   "source": [
    "doc_count = len(preprocessed)\n",
    "print(f'Number of preprocessed documents: {doc_count}')"
   ]
  },
  {
   "cell_type": "markdown",
   "metadata": {},
   "source": [
    "# Printing number of distinct cars"
   ]
  },
  {
   "cell_type": "code",
   "execution_count": 85,
   "metadata": {},
   "outputs": [
    {
     "name": "stdout",
     "output_type": "stream",
     "text": [
      "Number of distinct cars: 30\n",
      "['infiniti', 'acura', 'volkswagen', 'nissan', 'audi', 'dodge', 'toyota', 'chevrolet', 'mazda', 'jeep', 'subaru', 'gmc', 'cadillac', 'ford', 'mitsubishi', 'hyundai', 'bmw', 'smart', 'chrysler', 'pontiac', 'lexus', 'mercedes-benz', 'mini', 'saturn', 'honda', 'suzuki', 'scion', 'volvo', 'kia', 'buick']\n"
     ]
    }
   ],
   "source": [
    "cars = []\n",
    "for file_name in range(1,len(preprocessed)-1):\n",
    "    cars.append(preprocessed[file_name][\"file_name\"])\n",
    "\n",
    "distinct_cars = []\n",
    "for car in cars:\n",
    "    if car.split('_')[1] not in distinct_cars:\n",
    "        distinct_cars.append(car.split('_')[1])\n",
    "\n",
    "print(f'Number of distinct cars: {len(distinct_cars)}\\n{distinct_cars}')"
   ]
  },
  {
   "cell_type": "markdown",
   "metadata": {},
   "source": [
    "# Printing number of cars for every year"
   ]
  },
  {
   "cell_type": "code",
   "execution_count": 86,
   "metadata": {},
   "outputs": [
    {
     "name": "stdout",
     "output_type": "stream",
     "text": [
      "Number of cars for every year: {2009: 7803, 2007: 18662, 2008: 14666}\n"
     ]
    }
   ],
   "source": [
    "year_count = {}\n",
    "for docId in preprocessed:\n",
    "    if preprocessed[docId][\"file_name\"].split('_')[0]=='2007':\n",
    "        if 2007 in year_count:\n",
    "            year_count[2007]+=1\n",
    "        else:\n",
    "            year_count[2007]=1\n",
    "    if preprocessed[docId][\"file_name\"].split('_')[0]=='2008':\n",
    "        if 2008 in year_count:\n",
    "            year_count[2008]+=1\n",
    "        else:\n",
    "            year_count[2008]=1\n",
    "    if preprocessed[docId][\"file_name\"].split('_')[0]=='2009':\n",
    "        if 2009 in year_count:\n",
    "            year_count[2009]+=1\n",
    "        else: \n",
    "            year_count[2009]=1\n",
    "\n",
    "print(f'Number of cars for every year: {year_count}')"
   ]
  },
  {
   "cell_type": "markdown",
   "metadata": {},
   "source": [
    "# Printing number of documents for every year"
   ]
  },
  {
   "cell_type": "code",
   "execution_count": 87,
   "metadata": {},
   "outputs": [
    {
     "name": "stdout",
     "output_type": "stream",
     "text": [
      "Number of documents for every year: {2007: 18888, 2008: 14893, 2009: 7946}\n"
     ]
    }
   ],
   "source": [
    "print(f'Number of documents for every year: {years_count}')"
   ]
  },
  {
   "cell_type": "markdown",
   "metadata": {},
   "source": [
    "# Printing number of words in inverted-index"
   ]
  },
  {
   "cell_type": "code",
   "execution_count": 88,
   "metadata": {},
   "outputs": [
    {
     "name": "stdout",
     "output_type": "stream",
     "text": [
      "Number of words in inverted-index: 25223\n"
     ]
    }
   ],
   "source": [
    "inverted_index = create_index(preprocessed)\n",
    "print(f'Number of words in inverted-index: {len(inverted_index)}')"
   ]
  },
  {
   "cell_type": "markdown",
   "metadata": {},
   "source": [
    "# Information about posting lists"
   ]
  },
  {
   "cell_type": "code",
   "execution_count": 89,
   "metadata": {},
   "outputs": [
    {
     "name": "stdout",
     "output_type": "stream",
     "text": [
      "Maximum of posting list lengths: 26966\n",
      "Maximum of posting list lengths: 1\n",
      "Average of posting list lenghts: 71.04349205090593\n"
     ]
    }
   ],
   "source": [
    "#maximum of posting list lengths\n",
    "max = -1000000000000000\n",
    "for word in inverted_index:\n",
    "    if len(inverted_index[word]['doc_id']) > max:\n",
    "        max = len(inverted_index[word]['doc_id'])\n",
    "print(f'Maximum of posting list lengths: {max}')\n",
    "#minimum o posting list lengths\n",
    "min = 10000000000000000\n",
    "for word in inverted_index:\n",
    "    if len(inverted_index[word]['doc_id']) < min:\n",
    "        min = len(inverted_index[word]['doc_id'])\n",
    "print(f'Maximum of posting list lengths: {min}')\n",
    "#average of posting list lenghts \n",
    "ii_length = len(inverted_index)\n",
    "sum = 0\n",
    "for word in inverted_index:\n",
    "    sum+=len(inverted_index[word]['doc_id'])\n",
    "average = sum/ii_length\n",
    "print(f'Average of posting list lenghts: {average}')"
   ]
  },
  {
   "cell_type": "markdown",
   "metadata": {},
   "source": [
    "# Sorting document frequency and term frequency\n",
    "Sorting document frequency based on frequency list length and sorting term frequency based on integer value for word."
   ]
  },
  {
   "cell_type": "code",
   "execution_count": 90,
   "metadata": {
    "scrolled": false
   },
   "outputs": [
    {
     "name": "stdout",
     "output_type": "stream",
     "text": [
      "{'car': 61938, 'drive': 34871, 'great': 28337, 'seat': 24685, 'love': 20313, 'comfort': 17325, 'interior': 16216, 'ride': 15766, 'good': 15079, 'power': 14457, 'handl': 14438, 'vehicl': 14418, 'mileag': 14001, 'ga': 13964, 'mpg': 13188, 'mile': 11790, 'system': 11068, 'engin': 10719, 'back': 10240, 'fun': 9844}\n",
      "{'car': 26966, 'drive': 22464, 'great': 18223, 'seat': 16269, 'love': 14340, 'comfort': 13578, 'interior': 12600, 'ride': 12184, 'handl': 11436, 'mileag': 11085, 'good': 11065, 'power': 10894, 'ga': 10734, 'vehicl': 9840, 'mpg': 9314, 'mile': 9302, 'engin': 8372, 'system': 8328, 'back': 8214, 'fun': 8207}\n"
     ]
    }
   ],
   "source": [
    "sorted_df = {}\n",
    "max = -1000000000000000\n",
    "for loop in range(20):\n",
    "    for word in inverted_index:\n",
    "        if word in sorted_df:\n",
    "            continue\n",
    "        if inverted_index[word]['tf'] > max:\n",
    "            top = word\n",
    "            max = inverted_index[word]['tf']\n",
    "    sorted_df[top] = max\n",
    "    max = -1000000000000000\n",
    "\n",
    "sorted_tf = {}\n",
    "max = -1000000000000000\n",
    "for loop in range(20):\n",
    "    for word in inverted_index:\n",
    "        if word in sorted_tf:\n",
    "            continue\n",
    "        if len(inverted_index[word]['doc_id']) > max:\n",
    "            top = word\n",
    "            max = len(inverted_index[word]['doc_id'])\n",
    "    sorted_tf[top] = max\n",
    "    max = -1000000000000000\n",
    "\n",
    "print(sorted_df)\n",
    "print(sorted_tf)"
   ]
  },
  {
   "cell_type": "markdown",
   "metadata": {},
   "source": [
    "# Top 20 word and their document frequency"
   ]
  },
  {
   "cell_type": "code",
   "execution_count": 91,
   "metadata": {},
   "outputs": [
    {
     "data": {
      "image/png": "[encoded data removed]",
      "text/plain": [
       "<Figure size 1440x720 with 1 Axes>"
      ]
     },
     "metadata": {
      "needs_background": "light"
     },
     "output_type": "display_data"
    }
   ],
   "source": [
    "x = [word for word in sorted_df]\n",
    "y = [sorted_df[frq] for frq in sorted_df]\n",
    "plt.figure(figsize=(20, 10))\n",
    "plt.xlabel('Words')\n",
    "plt.ylabel('Document Frequency')\n",
    "plt.bar(x,y)\n",
    "plt.show()"
   ]
  },
  {
   "cell_type": "markdown",
   "metadata": {},
   "source": [
    "# Top 20 word and their term frequency"
   ]
  },
  {
   "cell_type": "code",
   "execution_count": 92,
   "metadata": {},
   "outputs": [
    {
     "data": {
      "image/png": "[encoded data removed]",
      "text/plain": [
       "<Figure size 1440x720 with 1 Axes>"
      ]
     },
     "metadata": {
      "needs_background": "light"
     },
     "output_type": "display_data"
    }
   ],
   "source": [
    "x = [word for word in sorted_tf]\n",
    "y = [sorted_tf[frq] for frq in sorted_tf]\n",
    "plt.figure(figsize=(20, 10))\n",
    "plt.xlabel('Words')\n",
    "plt.ylabel('Term Frequency')\n",
    "plt.bar(x,y)\n",
    "plt.show()"
   ]
  },
  {
   "cell_type": "markdown",
   "metadata": {},
   "source": [
    "# Files"
   ]
  },
  {
   "cell_type": "code",
   "execution_count": 101,
   "metadata": {},
   "outputs": [],
   "source": [
    "df_file = open('df_file.txt','w')\n",
    "for word in inverted_index:\n",
    "    df_file.write(word+' '+str(len(inverted_index[word]['doc_id']))+' '+str(inverted_index[word]['token_id'])+'\\n')\n",
    "df_file.close()"
   ]
  },
  {
   "cell_type": "code",
   "execution_count": 105,
   "metadata": {},
   "outputs": [],
   "source": [
    "tf_file = open('tf_file.txt','w')\n",
    "for word in inverted_index:\n",
    "    for document in inverted_index[word]['doc_id']:\n",
    "        tf = re.findall(word,documents[document]['text'])\n",
    "        tf_file.write(word+' '+str(document)+' '+str(len(tf))+'\\n')"
   ]
  }
 ],
 "metadata": {
  "kernelspec": {
   "display_name": "Python 3",
   "language": "python",
   "name": "python3"
  },
  "language_info": {
   "codemirror_mode": {
    "name": "ipython",
    "version": 3
   },
   "file_extension": ".py",
   "mimetype": "text/x-python",
   "name": "python",
   "nbconvert_exporter": "python",
   "pygments_lexer": "ipython3",
   "version": "3.9.9"
  }
 },
 "nbformat": 4,
 "nbformat_minor": 4
}
